{
 "cells": [
  {
   "cell_type": "markdown",
   "metadata": {},
   "source": [
    "# <font color='red'> Project 1\n",
    "\n",
    "### Project description:\n",
    "- Please read the Data Set Information section to learn about this dataset. \n",
    "- Data description is also provided for thi dataset.\n",
    "- Read data into Jupyter notebook, use pandas to import data into a data frame\n",
    "- Preprocess data: Explore data, check for missing data and apply data scaling. Justify the type of scaling used.\n",
    "\n",
    "### Regression Task:\n",
    "- Apply all the regression models you've learned so far. If your model has a scaling parameter(s) use Grid Search to find the best scaling parameter. Use plots and graphs to help you get a better glimpse of the results. \n",
    "- Then use cross validation to find average training and testing score. \n",
    "- Your submission should have at least the following regression models: KNN repressor, linear regression, Ridge, Lasso, polynomial regression, SVM both simple and with kernels. \n",
    "- Finally find the best regressor for this dataset and train your model on the entire dataset using the best parameters and predict buzz for the test_set.\n",
    "\n",
    "### Classification task:\n",
    "- Decide aboute a good evaluation strategy and justify your choice.\n",
    "- Find best parameters for following classification models: KNN classifcation, Logistic Regression, Linear Supprt Vector Machine, Kerenilzed Support Vector Machine, Decision Tree. \n",
    "- Which model gives the best results?\n",
    "\n",
    "### Deliverables:\n",
    "- Submit IPython notebook. Use markdown to provide an inline comments for this project.\n",
    "- Submit only one notebook. Before submitting, make sure everything runs as expected. To check that, restart the kernel (in the menubar, select Kernel > Restart) and then run all cells (in the menubar, select Cell > Run All).\n",
    "- Visualization encouraged. \n",
    "\n",
    "### Questions regarding project:\n",
    "- Post your queries related to project on discussion board on e-learning. There is high possibility that your classmate has also faced the same problem and knows the solution. This is an effort to encourage collaborative learning and also making all the information available to everyone. We will also answer queries there. We will not be answering any project related queries through mail."
   ]
  },
  {
   "cell_type": "markdown",
   "metadata": {},
   "source": [
    "---\n",
    "### Data Set Information:\n",
    "This dataset is taken from a research explained here. \n",
    "\n",
    "The goal of the research is to help the auditors by building a classification model that can predict the fraudulent firm on the basis the present and historical risk factors. The information about the sectors and the counts of firms are listed respectively as Irrigation (114), Public Health (77), Buildings and Roads (82), Forest (70), Corporate (47), Animal Husbandry (95), Communication (1), Electrical (4), Land (5), Science and Technology (3), Tourism (1), Fisheries (41), Industries (37), Agriculture (200).\n",
    "\n",
    "There are two csv files to present data. Please merge these two datasets into one dataframe. All the steps should be done in Python. Please don't make any changes in csv files. Consider ``Audit_Risk`` as target columns for regression tasks, and ``Risk`` as the target column for classification tasks. \n",
    "\n",
    "### Attribute Information:\n",
    "Many risk factors are examined from various areas like past records of audit office, audit-paras, environmental conditions reports, firm reputation summary, on-going issues report, profit-value records, loss-value records, follow-up reports etc. After in-depth interview with the auditors, important risk factors are evaluated and their probability of existence is calculated from the present and past records.\n",
    "\n",
    "\n",
    "### Relevant Papers:\n",
    "Hooda, Nishtha, Seema Bawa, and Prashant Singh Rana. 'Fraudulent Firm Classification: A Case Study of an External Audit.' Applied Artificial Intelligence 32.1 (2018): 48-64."
   ]
  },
  {
   "cell_type": "markdown",
   "metadata": {},
   "source": [
    "### Reading the Data from Data files "
   ]
  },
  {
   "cell_type": "code",
   "execution_count": 1,
   "metadata": {},
   "outputs": [],
   "source": [
    "## Importin Libraries \n",
    "import pandas as pd \n",
    "import numpy as np \n",
    "import matplotlib.pyplot as plt\n",
    "import seaborn as sns \n",
    "from sklearn.preprocessing import PolynomialFeatures,StandardScaler\n",
    "from sklearn.linear_model import LinearRegression, Ridge, Lasso, SGDRegressor\n",
    "from sklearn.model_selection import train_test_split,cross_val_score,cross_val_predict,GridSearchCV\n",
    "from sklearn.neighbors import KNeighborsRegressor\n",
    "from sklearn.svm import LinearSVR,SVR\n",
    "import warnings\n",
    "warnings.filterwarnings('ignore')\n",
    "\n",
    "import mglearn as mglearn\n",
    "%matplotlib inline "
   ]
  },
  {
   "cell_type": "code",
   "execution_count": 2,
   "metadata": {},
   "outputs": [],
   "source": [
    "### Importing the data \n",
    "\n",
    "audit = pd.read_csv('audit_risk.csv')"
   ]
  },
  {
   "cell_type": "code",
   "execution_count": 3,
   "metadata": {},
   "outputs": [
    {
     "data": {
      "text/plain": [
       "Sector_score      0\n",
       "LOCATION_ID       0\n",
       "PARA_A            0\n",
       "Score_A           0\n",
       "Risk_A            0\n",
       "PARA_B            0\n",
       "Score_B           0\n",
       "Risk_B            0\n",
       "TOTAL             0\n",
       "numbers           0\n",
       "Score_B.1         0\n",
       "Risk_C            0\n",
       "Money_Value       1\n",
       "Score_MV          0\n",
       "Risk_D            0\n",
       "District_Loss     0\n",
       "PROB              0\n",
       "RiSk_E            0\n",
       "History           0\n",
       "Prob              0\n",
       "Risk_F            0\n",
       "Score             0\n",
       "Inherent_Risk     0\n",
       "CONTROL_RISK      0\n",
       "Detection_Risk    0\n",
       "Audit_Risk        0\n",
       "Risk              0\n",
       "dtype: int64"
      ]
     },
     "execution_count": 3,
     "metadata": {},
     "output_type": "execute_result"
    }
   ],
   "source": [
    "audit.isnull().sum()"
   ]
  },
  {
   "cell_type": "code",
   "execution_count": 5,
   "metadata": {},
   "outputs": [],
   "source": [
    "trial = pd.read_csv('trial.csv')"
   ]
  },
  {
   "cell_type": "code",
   "execution_count": 6,
   "metadata": {},
   "outputs": [
    {
     "data": {
      "text/plain": [
       "Sector_score     0\n",
       "LOCATION_ID      0\n",
       "PARA_A           0\n",
       "SCORE_A          0\n",
       "PARA_B           0\n",
       "SCORE_B          0\n",
       "TOTAL            0\n",
       "numbers          0\n",
       "Marks            0\n",
       "Money_Value      1\n",
       "MONEY_Marks      0\n",
       "District         0\n",
       "Loss             0\n",
       "LOSS_SCORE       0\n",
       "History          0\n",
       "History_score    0\n",
       "Score            0\n",
       "Risk             0\n",
       "dtype: int64"
      ]
     },
     "execution_count": 6,
     "metadata": {},
     "output_type": "execute_result"
    }
   ],
   "source": [
    "trial.isnull().sum()"
   ]
  },
  {
   "cell_type": "code",
   "execution_count": 7,
   "metadata": {},
   "outputs": [],
   "source": [
    "audit['Money_Value'].fillna(0, inplace = True)"
   ]
  },
  {
   "cell_type": "code",
   "execution_count": 8,
   "metadata": {},
   "outputs": [],
   "source": [
    "trial['Money_Value'].fillna(0, inplace = True)"
   ]
  },
  {
   "cell_type": "code",
   "execution_count": 9,
   "metadata": {},
   "outputs": [
    {
     "name": "stdout",
     "output_type": "stream",
     "text": [
      "Audit \n",
      " Sector_score      0\n",
      "LOCATION_ID       0\n",
      "PARA_A            0\n",
      "Score_A           0\n",
      "Risk_A            0\n",
      "PARA_B            0\n",
      "Score_B           0\n",
      "Risk_B            0\n",
      "TOTAL             0\n",
      "numbers           0\n",
      "Score_B.1         0\n",
      "Risk_C            0\n",
      "Money_Value       0\n",
      "Score_MV          0\n",
      "Risk_D            0\n",
      "District_Loss     0\n",
      "PROB              0\n",
      "RiSk_E            0\n",
      "History           0\n",
      "Prob              0\n",
      "Risk_F            0\n",
      "Score             0\n",
      "Inherent_Risk     0\n",
      "CONTROL_RISK      0\n",
      "Detection_Risk    0\n",
      "Audit_Risk        0\n",
      "Risk              0\n",
      "dtype: int64\n",
      "Trial \n",
      " Sector_score     0\n",
      "LOCATION_ID      0\n",
      "PARA_A           0\n",
      "SCORE_A          0\n",
      "PARA_B           0\n",
      "SCORE_B          0\n",
      "TOTAL            0\n",
      "numbers          0\n",
      "Marks            0\n",
      "Money_Value      0\n",
      "MONEY_Marks      0\n",
      "District         0\n",
      "Loss             0\n",
      "LOSS_SCORE       0\n",
      "History          0\n",
      "History_score    0\n",
      "Score            0\n",
      "Risk             0\n",
      "dtype: int64\n"
     ]
    }
   ],
   "source": [
    "print(\"Audit \\n\", audit.isnull().sum())\n",
    "print(\"Trial \\n\",trial.isnull().sum())"
   ]
  },
  {
   "cell_type": "code",
   "execution_count": 10,
   "metadata": {},
   "outputs": [],
   "source": [
    "audit_risk = pd.merge(audit,trial, left_index=True, right_index=True,how = 'inner',suffixes=('', ' '))"
   ]
  },
  {
   "cell_type": "code",
   "execution_count": 11,
   "metadata": {},
   "outputs": [],
   "source": [
    "def getDuplicateColumns(df):\n",
    "    duplicateColumnNames = set()\n",
    "    for x in range(df.shape[1]):\n",
    "        col = df.iloc[:, x]\n",
    "        for y in range(x + 1, df.shape[1]):\n",
    "            otherCol = df.iloc[:, y]\n",
    "            if col.equals(otherCol):\n",
    "                duplicateColumnNames.add(df.columns.values[y])\n",
    "                \n",
    "    return list(duplicateColumnNames)"
   ]
  },
  {
   "cell_type": "code",
   "execution_count": 12,
   "metadata": {},
   "outputs": [
    {
     "name": "stdout",
     "output_type": "stream",
     "text": [
      "Duplicate Columns are as follows\n",
      "Column name :  TOTAL \n",
      "Column name :  Money_Value \n",
      "Column name :  Score \n",
      "Column name :  numbers \n",
      "Column name :  History \n",
      "Column name :  PARA_A \n",
      "Column name :  District\n",
      "Column name :  PARA_B \n",
      "Column name :  Sector_score \n",
      "Column name :  LOCATION_ID \n"
     ]
    }
   ],
   "source": [
    "duplicateColumnNames = getDuplicateColumns(audit_risk)\n",
    "print('Duplicate Columns are as follows')\n",
    "for col in duplicateColumnNames:\n",
    "    print('Column name : ', col)"
   ]
  },
  {
   "cell_type": "code",
   "execution_count": 13,
   "metadata": {},
   "outputs": [],
   "source": [
    "audit_risk = audit_risk.drop(columns=getDuplicateColumns(audit_risk))"
   ]
  },
  {
   "cell_type": "code",
   "execution_count": 14,
   "metadata": {
    "scrolled": true
   },
   "outputs": [
    {
     "name": "stdout",
     "output_type": "stream",
     "text": [
      "<class 'pandas.core.frame.DataFrame'>\n",
      "RangeIndex: 776 entries, 0 to 775\n",
      "Data columns (total 35 columns):\n",
      "Sector_score      776 non-null float64\n",
      "LOCATION_ID       776 non-null object\n",
      "PARA_A            776 non-null float64\n",
      "Score_A           776 non-null float64\n",
      "Risk_A            776 non-null float64\n",
      "PARA_B            776 non-null float64\n",
      "Score_B           776 non-null float64\n",
      "Risk_B            776 non-null float64\n",
      "TOTAL             776 non-null float64\n",
      "numbers           776 non-null float64\n",
      "Score_B.1         776 non-null float64\n",
      "Risk_C            776 non-null float64\n",
      "Money_Value       776 non-null float64\n",
      "Score_MV          776 non-null float64\n",
      "Risk_D            776 non-null float64\n",
      "District_Loss     776 non-null int64\n",
      "PROB              776 non-null float64\n",
      "RiSk_E            776 non-null float64\n",
      "History           776 non-null int64\n",
      "Prob              776 non-null float64\n",
      "Risk_F            776 non-null float64\n",
      "Score             776 non-null float64\n",
      "Inherent_Risk     776 non-null float64\n",
      "CONTROL_RISK      776 non-null float64\n",
      "Detection_Risk    776 non-null float64\n",
      "Audit_Risk        776 non-null float64\n",
      "Risk              776 non-null int64\n",
      "SCORE_A           776 non-null int64\n",
      "SCORE_B           776 non-null int64\n",
      "Marks             776 non-null int64\n",
      "MONEY_Marks       776 non-null int64\n",
      "Loss              776 non-null int64\n",
      "LOSS_SCORE        776 non-null int64\n",
      "History_score     776 non-null int64\n",
      "Risk              776 non-null int64\n",
      "dtypes: float64(23), int64(11), object(1)\n",
      "memory usage: 212.3+ KB\n"
     ]
    }
   ],
   "source": [
    "audit_risk.info()"
   ]
  },
  {
   "cell_type": "markdown",
   "metadata": {},
   "source": [
    "Converting and imputing values for ``LOCATION_ID`` "
   ]
  },
  {
   "cell_type": "code",
   "execution_count": 15,
   "metadata": {},
   "outputs": [
    {
     "data": {
      "text/plain": [
       "array(['23', '6', '7', '8', '13', '37', '24', '3', '4', '14', '5', '20',\n",
       "       '19', '21', '22', '9', '11', '12', '29', '30', '38', '31', '2',\n",
       "       '32', '16', '33', '15', '36', '34', '18', '25', '39', '27', '35',\n",
       "       '40', '41', '42', '1', '28', 'LOHARU', 'NUH', 'SAFIDON', '43',\n",
       "       '44', '17'], dtype=object)"
      ]
     },
     "execution_count": 15,
     "metadata": {},
     "output_type": "execute_result"
    }
   ],
   "source": [
    "audit_risk['LOCATION_ID'].unique()"
   ]
  },
  {
   "cell_type": "code",
   "execution_count": 16,
   "metadata": {},
   "outputs": [],
   "source": [
    "audit_risk.LOCATION_ID.replace(['LOHARU', 'NUH', 'SAFIDON'], ['45', '46', '47'], inplace=True)"
   ]
  },
  {
   "cell_type": "code",
   "execution_count": 17,
   "metadata": {},
   "outputs": [],
   "source": [
    "audit_risk['LOCATION_ID'] = audit_risk['LOCATION_ID'].astype(np.int64)"
   ]
  },
  {
   "cell_type": "code",
   "execution_count": 18,
   "metadata": {},
   "outputs": [
    {
     "data": {
      "text/html": [
       "<div>\n",
       "<style scoped>\n",
       "    .dataframe tbody tr th:only-of-type {\n",
       "        vertical-align: middle;\n",
       "    }\n",
       "\n",
       "    .dataframe tbody tr th {\n",
       "        vertical-align: top;\n",
       "    }\n",
       "\n",
       "    .dataframe thead th {\n",
       "        text-align: right;\n",
       "    }\n",
       "</style>\n",
       "<table border=\"1\" class=\"dataframe\">\n",
       "  <thead>\n",
       "    <tr style=\"text-align: right;\">\n",
       "      <th></th>\n",
       "      <th>Score_A</th>\n",
       "      <th>Score_B</th>\n",
       "      <th>SCORE_A</th>\n",
       "      <th>SCORE_B</th>\n",
       "    </tr>\n",
       "  </thead>\n",
       "  <tbody>\n",
       "    <tr>\n",
       "      <th>0</th>\n",
       "      <td>0.6</td>\n",
       "      <td>0.2</td>\n",
       "      <td>6</td>\n",
       "      <td>2</td>\n",
       "    </tr>\n",
       "    <tr>\n",
       "      <th>1</th>\n",
       "      <td>0.2</td>\n",
       "      <td>0.2</td>\n",
       "      <td>2</td>\n",
       "      <td>2</td>\n",
       "    </tr>\n",
       "    <tr>\n",
       "      <th>2</th>\n",
       "      <td>0.2</td>\n",
       "      <td>0.2</td>\n",
       "      <td>2</td>\n",
       "      <td>2</td>\n",
       "    </tr>\n",
       "    <tr>\n",
       "      <th>3</th>\n",
       "      <td>0.2</td>\n",
       "      <td>0.6</td>\n",
       "      <td>2</td>\n",
       "      <td>6</td>\n",
       "    </tr>\n",
       "    <tr>\n",
       "      <th>4</th>\n",
       "      <td>0.2</td>\n",
       "      <td>0.2</td>\n",
       "      <td>2</td>\n",
       "      <td>2</td>\n",
       "    </tr>\n",
       "    <tr>\n",
       "      <th>5</th>\n",
       "      <td>0.2</td>\n",
       "      <td>0.2</td>\n",
       "      <td>2</td>\n",
       "      <td>2</td>\n",
       "    </tr>\n",
       "    <tr>\n",
       "      <th>6</th>\n",
       "      <td>0.4</td>\n",
       "      <td>0.4</td>\n",
       "      <td>4</td>\n",
       "      <td>4</td>\n",
       "    </tr>\n",
       "    <tr>\n",
       "      <th>7</th>\n",
       "      <td>0.6</td>\n",
       "      <td>0.6</td>\n",
       "      <td>6</td>\n",
       "      <td>6</td>\n",
       "    </tr>\n",
       "    <tr>\n",
       "      <th>8</th>\n",
       "      <td>0.6</td>\n",
       "      <td>0.6</td>\n",
       "      <td>6</td>\n",
       "      <td>6</td>\n",
       "    </tr>\n",
       "    <tr>\n",
       "      <th>9</th>\n",
       "      <td>0.6</td>\n",
       "      <td>0.2</td>\n",
       "      <td>6</td>\n",
       "      <td>2</td>\n",
       "    </tr>\n",
       "  </tbody>\n",
       "</table>\n",
       "</div>"
      ],
      "text/plain": [
       "   Score_A  Score_B  SCORE_A  SCORE_B\n",
       "0      0.6      0.2        6        2\n",
       "1      0.2      0.2        2        2\n",
       "2      0.2      0.2        2        2\n",
       "3      0.2      0.6        2        6\n",
       "4      0.2      0.2        2        2\n",
       "5      0.2      0.2        2        2\n",
       "6      0.4      0.4        4        4\n",
       "7      0.6      0.6        6        6\n",
       "8      0.6      0.6        6        6\n",
       "9      0.6      0.2        6        2"
      ]
     },
     "execution_count": 18,
     "metadata": {},
     "output_type": "execute_result"
    }
   ],
   "source": [
    "audit_risk[:10][['Score_A', 'Score_B', 'SCORE_A', 'SCORE_B']]"
   ]
  },
  {
   "cell_type": "markdown",
   "metadata": {},
   "source": [
    "As Columns ``Score_A, Score_B`` and ``SCORE_A, SCORE_B`` are similar and related as ``SCORE_* = 10 * Score_*`` So we can drop both ``SCORE_A`` and ``SCORE_B`` columns "
   ]
  },
  {
   "cell_type": "code",
   "execution_count": 19,
   "metadata": {},
   "outputs": [],
   "source": [
    "audit_risk = audit_risk.drop(['SCORE_A', 'SCORE_B'], axis = 1)"
   ]
  },
  {
   "cell_type": "code",
   "execution_count": 20,
   "metadata": {},
   "outputs": [
    {
     "name": "stdout",
     "output_type": "stream",
     "text": [
      "<class 'pandas.core.frame.DataFrame'>\n",
      "RangeIndex: 776 entries, 0 to 775\n",
      "Data columns (total 33 columns):\n",
      "Sector_score      776 non-null float64\n",
      "LOCATION_ID       776 non-null int64\n",
      "PARA_A            776 non-null float64\n",
      "Score_A           776 non-null float64\n",
      "Risk_A            776 non-null float64\n",
      "PARA_B            776 non-null float64\n",
      "Score_B           776 non-null float64\n",
      "Risk_B            776 non-null float64\n",
      "TOTAL             776 non-null float64\n",
      "numbers           776 non-null float64\n",
      "Score_B.1         776 non-null float64\n",
      "Risk_C            776 non-null float64\n",
      "Money_Value       776 non-null float64\n",
      "Score_MV          776 non-null float64\n",
      "Risk_D            776 non-null float64\n",
      "District_Loss     776 non-null int64\n",
      "PROB              776 non-null float64\n",
      "RiSk_E            776 non-null float64\n",
      "History           776 non-null int64\n",
      "Prob              776 non-null float64\n",
      "Risk_F            776 non-null float64\n",
      "Score             776 non-null float64\n",
      "Inherent_Risk     776 non-null float64\n",
      "CONTROL_RISK      776 non-null float64\n",
      "Detection_Risk    776 non-null float64\n",
      "Audit_Risk        776 non-null float64\n",
      "Risk              776 non-null int64\n",
      "Marks             776 non-null int64\n",
      "MONEY_Marks       776 non-null int64\n",
      "Loss              776 non-null int64\n",
      "LOSS_SCORE        776 non-null int64\n",
      "History_score     776 non-null int64\n",
      "Risk              776 non-null int64\n",
      "dtypes: float64(23), int64(10)\n",
      "memory usage: 200.1 KB\n"
     ]
    }
   ],
   "source": [
    "audit_risk.info()"
   ]
  },
  {
   "cell_type": "markdown",
   "metadata": {},
   "source": [
    "### Feature Scaling\n",
    "- Standard \n",
    "As we see most of the features are not skewed and displays bimodal tranfromation so the ``Standard scaling`` will be appropriate for this type of data "
   ]
  },
  {
   "cell_type": "code",
   "execution_count": 21,
   "metadata": {},
   "outputs": [],
   "source": [
    "y_org = audit_risk['Audit_Risk']\n",
    "X_org = audit_risk.drop(columns='Audit_Risk')"
   ]
  },
  {
   "cell_type": "code",
   "execution_count": 22,
   "metadata": {},
   "outputs": [],
   "source": [
    "X_train_org, X_test_org , y_train, y_test  = train_test_split(X_org, y_org, random_state = 0)"
   ]
  },
  {
   "cell_type": "code",
   "execution_count": 23,
   "metadata": {},
   "outputs": [],
   "source": [
    "scaler = StandardScaler()\n",
    "scaler.fit(X_train_org)\n",
    "X_train = scaler.fit_transform(X_train_org)\n",
    "X_test = scaler.transform(X_test_org)"
   ]
  },
  {
   "cell_type": "code",
   "execution_count": 24,
   "metadata": {},
   "outputs": [],
   "source": [
    "model_Scores = []"
   ]
  },
  {
   "cell_type": "markdown",
   "metadata": {},
   "source": [
    "## Regression Tasks\n",
    "##  - Linear Regression "
   ]
  },
  {
   "cell_type": "code",
   "execution_count": 25,
   "metadata": {},
   "outputs": [],
   "source": [
    "def printGridResult (model_def) :\n",
    "    print(\"Best CV result: {}\".format(model_def.best_score_))\n",
    "    print(\"Best parameters: {}\".format(model_def.best_params_))\n",
    "    print(\"Training Score: {}\".format(model_def.score(X_train, y_train)))\n",
    "    print(\"Testing Score: {}\".format(model_def.score(X_test, y_test)))"
   ]
  },
  {
   "cell_type": "code",
   "execution_count": 26,
   "metadata": {},
   "outputs": [
    {
     "name": "stdout",
     "output_type": "stream",
     "text": [
      "Cross validation scores: [0.768236   0.83440621 0.72379217]\n",
      "Train Score 0.78\n",
      "Test Score 0.49\n"
     ]
    }
   ],
   "source": [
    "lreg = LinearRegression()\n",
    "cvscores = cross_val_score(lreg, X_train, y_train, cv=3)\n",
    "print(\"Cross validation scores: {}\".format(cvscores))\n",
    "print(\"Train Score {:.2f}\".format(cvscores.mean()))\n",
    "lreg.fit(X_train, y_train)\n",
    "test_score = lreg.score(X_test,y_test) \n",
    "print(\"Test Score {:.2f}\".format(test_score))"
   ]
  },
  {
   "cell_type": "code",
   "execution_count": 27,
   "metadata": {},
   "outputs": [],
   "source": [
    "## Appending the results \n",
    "model_Scores.append({'Model Type' : 'Regression',\n",
    "                    'Model Name' : 'Linear Regression',\n",
    "                    'Parameters' : '-',\n",
    "                    'Training_score': cvscores.mean(),\n",
    "                    'Test Score':test_score})"
   ]
  },
  {
   "cell_type": "markdown",
   "metadata": {},
   "source": [
    "## Stocastic Gradiant Descent Regressor( SGD Regressor)"
   ]
  },
  {
   "cell_type": "code",
   "execution_count": 28,
   "metadata": {},
   "outputs": [
    {
     "name": "stdout",
     "output_type": "stream",
     "text": [
      "Parameter grid for GridSearch CV :\n",
      "{'max_iter': [10, 100, 1000], 'learning_rate': ['optimal'], 'penalty': ['l1', 'l2'], 'random_state': [0]}\n"
     ]
    },
    {
     "data": {
      "text/plain": [
       "GridSearchCV(cv=3, error_score='raise-deprecating',\n",
       "       estimator=SGDRegressor(alpha=0.0001, average=False, early_stopping=False, epsilon=0.1,\n",
       "       eta0=0.01, fit_intercept=True, l1_ratio=0.15,\n",
       "       learning_rate='invscaling', loss='squared_loss', max_iter=None,\n",
       "       n_iter=None, n_iter_no_change=5, penalty='l2', power_t=0.25,\n",
       "       random_state=None, shuffle=True, tol=None, validation_fraction=0.1,\n",
       "       verbose=0, warm_start=False),\n",
       "       fit_params=None, iid='warn', n_jobs=1,\n",
       "       param_grid={'max_iter': [10, 100, 1000], 'learning_rate': ['optimal'], 'penalty': ['l1', 'l2'], 'random_state': [0]},\n",
       "       pre_dispatch='2*n_jobs', refit=True, return_train_score=True,\n",
       "       scoring=None, verbose=0)"
      ]
     },
     "execution_count": 28,
     "metadata": {},
     "output_type": "execute_result"
    }
   ],
   "source": [
    "## As SGD has Parameters using GridSearchCV\n",
    "sgd_param = {'max_iter': [10, 100, 1000],'learning_rate':['optimal'], 'penalty' :['l1','l2'],'random_state':[0]}\n",
    "\n",
    "print(\"Parameter grid for GridSearch CV :\\n{}\".format(sgd_param))\n",
    "\n",
    "sgd_GSCV =  GridSearchCV(estimator = SGDRegressor(), \n",
    "                         param_grid= sgd_param, cv = 3, n_jobs=1, return_train_score = True)\n",
    "sgd_GSCV.fit(X_train,y_train)"
   ]
  },
  {
   "cell_type": "code",
   "execution_count": 29,
   "metadata": {},
   "outputs": [
    {
     "name": "stdout",
     "output_type": "stream",
     "text": [
      "Best CV result: -1.5434835534850598e+21\n",
      "Best parameters: {'learning_rate': 'optimal', 'max_iter': 1000, 'penalty': 'l2', 'random_state': 0}\n",
      "Training Score: -8.065765935990329e+19\n",
      "Testing Score: -2.2746508481862536e+18\n"
     ]
    }
   ],
   "source": [
    "printGridResult(sgd_GSCV)\n",
    "model_Scores.append({'Model Type' : 'Regression',\n",
    "                    'Model Name' : 'SGD Regressor',\n",
    "                    'Parameters' : sgd_GSCV.best_params_,\n",
    "                    'Training_score': sgd_GSCV.score(X_train, y_train),\n",
    "                    'Test Score':sgd_GSCV.score(X_test, y_test)})"
   ]
  },
  {
   "cell_type": "markdown",
   "metadata": {},
   "source": [
    "## Polynomial Regression"
   ]
  },
  {
   "cell_type": "code",
   "execution_count": 30,
   "metadata": {},
   "outputs": [
    {
     "name": "stdout",
     "output_type": "stream",
     "text": [
      "Train Scores [0.7754781269974481, 0.9582140413383881, 0.6918031332804967]\n",
      "Test Scores [0.4865740275997731, 0.9986868081827037, -0.9097913793434518]\n"
     ]
    },
    {
     "data": {
      "image/png": "[encoded data removed]",
      "text/plain": [
       "<Figure size 432x288 with 1 Axes>"
      ]
     },
     "metadata": {
      "needs_background": "light"
     },
     "output_type": "display_data"
    }
   ],
   "source": [
    "polyreg = LinearRegression()\n",
    "poly_train_score = []\n",
    "poly_test_score = []\n",
    "\n",
    "for n in range(1,4):\n",
    "    poly = PolynomialFeatures(n)\n",
    "    X_train_poly = poly.fit_transform(X_train)\n",
    "    X_test_poly = poly.transform(X_test)\n",
    "    scores_train = cross_val_score(polyreg, X_train_poly, y_train, cv=3)\n",
    "    polyreg.fit(X_train_poly,y_train)\n",
    "    scores_test = polyreg.score(X_test_poly,y_test)\n",
    "    poly_test_score.append(scores_test)\n",
    "    poly_train_score.append(scores_train.mean())\n",
    "\n",
    "print(\"Train Scores\", poly_train_score)\n",
    "print(\"Test Scores\", poly_test_score)\n",
    "\n",
    "%matplotlib inline\n",
    "x_axis = range(1,4)\n",
    "plt.plot(x_axis, poly_train_score, c = 'g', label = 'Train Score')\n",
    "plt.plot(x_axis, poly_test_score, c = 'b', label = 'Test Score')\n",
    "plt.xlabel('Degree')\n",
    "plt.ylabel('Accuracy')\n",
    "plt.legend()\n",
    "plt.show()"
   ]
  },
  {
   "cell_type": "code",
   "execution_count": 37,
   "metadata": {},
   "outputs": [],
   "source": [
    "model_Scores.append({'Model Type' : 'Regression',\n",
    "                    'Model Name' : 'Polynomial Regression',\n",
    "                    'Parameters' : {'Degree':2},\n",
    "                    'Training_score':poly_train_score[1],\n",
    "                    'Test Score':poly_test_score[1]})"
   ]
  },
  {
   "cell_type": "code",
   "execution_count": 38,
   "metadata": {},
   "outputs": [
    {
     "name": "stdout",
     "output_type": "stream",
     "text": [
      "[1.00000000e-03 3.16227766e-03 1.00000000e-02 3.16227766e-02\n",
      " 1.00000000e-01 3.16227766e-01 1.00000000e+00 3.16227766e+00\n",
      " 1.00000000e+01 3.16227766e+01 1.00000000e+02 3.16227766e+02\n",
      " 1.00000000e+03]\n"
     ]
    }
   ],
   "source": [
    "print(np.logspace(-3, 3, 13))"
   ]
  },
  {
   "cell_type": "markdown",
   "metadata": {},
   "source": [
    "## Ridge Regression (L2)"
   ]
  },
  {
   "cell_type": "code",
   "execution_count": 39,
   "metadata": {},
   "outputs": [
    {
     "name": "stdout",
     "output_type": "stream",
     "text": [
      "Parameter grid:\n",
      "{'alpha': [0.001, 0.01, 0.1, 1, 10, 100]}\n"
     ]
    },
    {
     "data": {
      "image/png": "[encoded data removed]",
      "text/plain": [
       "<Figure size 792x504 with 1 Axes>"
      ]
     },
     "metadata": {
      "needs_background": "light"
     },
     "output_type": "display_data"
    }
   ],
   "source": [
    "ridgeParamGSV = {'alpha': [0.001, 0.01, 0.1, 1, 10, 100]}\n",
    "print(\"Parameter grid:\\n{}\".format(ridgeParamGSV))\n",
    "\n",
    "ridgeGridSV = GridSearchCV(estimator = Ridge(random_state = 0 ),param_grid = ridgeParamGSV, \n",
    "                           cv=5, return_train_score=True, scoring='r2', n_jobs=1)\n",
    "ridgeGridSV.fit(X_train, y_train)\n",
    "\n",
    "ridge_train_scores_mean = ridgeGridSV.cv_results_[\"mean_train_score\"]\n",
    "ridge_test_scores_mean = ridgeGridSV.cv_results_[\"mean_test_score\"]\n",
    "plt.figure(figsize = (11,7))\n",
    "plt.xlabel('$\\\\alpha$ (alpha)')\n",
    "plt.ylabel('Score')\n",
    "# plot train scores\n",
    "plt.semilogx([0.001, 0.01, 0.1, 1, 10, 100], ridge_train_scores_mean, label='Train score',\n",
    "             color='blue')\n",
    "plt.semilogx([0.001, 0.01, 0.1, 1, 10, 100], ridge_test_scores_mean,\n",
    "             label='Test score', color='orange')\n",
    "\n",
    "plt.title('Ridge')\n",
    "plt.legend(loc='best')\n",
    "plt.show()"
   ]
  },
  {
   "cell_type": "code",
   "execution_count": 40,
   "metadata": {},
   "outputs": [
    {
     "name": "stdout",
     "output_type": "stream",
     "text": [
      "Best CV result: 0.6325296095161187\n",
      "Best parameters: {'alpha': 0.1}\n",
      "Training Score: 0.9316139625480443\n",
      "Testing Score: 0.45995591733805796\n"
     ]
    }
   ],
   "source": [
    "model_Scores.append({'Model Type' : 'Regression',\n",
    "                    'Model Name' : 'Ridge Regression',\n",
    "                    'Parameters' : ridgeGridSV.best_params_,\n",
    "                    'Training_score': ridgeGridSV.score(X_train, y_train),\n",
    "                    'Test Score': ridgeGridSV.score(X_test, y_test )})\n",
    "printGridResult(ridgeGridSV)"
   ]
  },
  {
   "cell_type": "markdown",
   "metadata": {},
   "source": [
    "## Lasso Regression (L1)"
   ]
  },
  {
   "cell_type": "code",
   "execution_count": 41,
   "metadata": {},
   "outputs": [
    {
     "name": "stdout",
     "output_type": "stream",
     "text": [
      "Parameter grid:\n",
      "{'alpha': [0.001, 0.01, 0.1, 1, 10, 100]}\n"
     ]
    },
    {
     "data": {
      "text/plain": [
       "<matplotlib.legend.Legend at 0x1d9ca92f080>"
      ]
     },
     "execution_count": 41,
     "metadata": {},
     "output_type": "execute_result"
    },
    {
     "data": {
      "image/png": "[encoded data removed]",
      "text/plain": [
       "<Figure size 792x504 with 1 Axes>"
      ]
     },
     "metadata": {
      "needs_background": "light"
     },
     "output_type": "display_data"
    }
   ],
   "source": [
    "\n",
    "lassoParamGSV = {'alpha': [0.001, 0.01, 0.1, 1, 10, 100]}\n",
    "print(\"Parameter grid:\\n{}\".format(lassoParamGSV))\n",
    "\n",
    "lassoGridSV = GridSearchCV(estimator = Lasso(random_state = 0 ),param_grid = lassoParamGSV, \n",
    "                           cv=5, return_train_score=True, scoring='r2', n_jobs=1)\n",
    "lassoGridSV.fit(X_train, y_train)\n",
    "\n",
    "lasso_train_scores_mean = lassoGridSV.cv_results_[\"mean_train_score\"]\n",
    "lasso_test_scores_mean = lassoGridSV.cv_results_[\"mean_test_score\"]\n",
    "plt.figure(figsize = (11,7))\n",
    "plt.xlabel('$\\\\alpha$ (alpha)')\n",
    "plt.ylabel('Score')\n",
    "# plot train scores\n",
    "plt.semilogx([0.001, 0.01, 0.1, 1, 10, 100], lasso_train_scores_mean, label='Train score',\n",
    "             color='blue')\n",
    "plt.semilogx([0.001, 0.01, 0.1, 1, 10, 100], lasso_test_scores_mean,\n",
    "             label='Test score', color='orange')\n",
    "\n",
    "plt.title('Lasso')\n",
    "plt.legend(loc='best')\n"
   ]
  },
  {
   "cell_type": "code",
   "execution_count": 42,
   "metadata": {
    "scrolled": true
   },
   "outputs": [
    {
     "name": "stdout",
     "output_type": "stream",
     "text": [
      "Best CV result: 0.639486329137217\n",
      "Best parameters: {'alpha': 0.001}\n",
      "Training Score: 0.9250519206887224\n",
      "Testing Score: 0.4536240545871546\n"
     ]
    }
   ],
   "source": [
    "model_Scores.append({'Model Type' : 'Regression',\n",
    "                    'Model Name' : 'Lasso Regression',\n",
    "                    'Parameters' : lassoGridSV.best_params_,\n",
    "                    'Training_score': lassoGridSV.score(X_train, y_train),\n",
    "                    'Test Score': lassoGridSV.score(X_test, y_test )})\n",
    "printGridResult(lassoGridSV)"
   ]
  },
  {
   "cell_type": "markdown",
   "metadata": {},
   "source": [
    "### KNN Regressor "
   ]
  },
  {
   "cell_type": "code",
   "execution_count": 43,
   "metadata": {},
   "outputs": [
    {
     "name": "stdout",
     "output_type": "stream",
     "text": [
      "Parameter grid:\n",
      "{'n_neighbors': [1, 5, 10, 15, 20]}\n"
     ]
    },
    {
     "data": {
      "image/png": "[encoded data removed]",
      "text/plain": [
       "<Figure size 792x504 with 1 Axes>"
      ]
     },
     "metadata": {
      "needs_background": "light"
     },
     "output_type": "display_data"
    }
   ],
   "source": [
    "knnRegressor = KNeighborsRegressor()\n",
    "noofNeighbors = {'n_neighbors':[1, 5, 10, 15, 20]}\n",
    "print(\"Parameter grid:\\n{}\".format(noofNeighbors))\n",
    "knnGridSCV = GridSearchCV(knnRegressor, param_grid = noofNeighbors, cv=5, return_train_score=True)\n",
    "knnGridSCV.fit(X_train, y_train)\n",
    "\n",
    "n_neighbors = [1, 5, 10, 15, 20]\n",
    "\n",
    "n_neighbors = [1, 5, 10, 15, 20]\n",
    "\n",
    "train_knnRegressor = knnGridSCV.cv_results_[\"mean_train_score\"]\n",
    "\n",
    "test_knnRegressor = knnGridSCV.cv_results_[\"mean_test_score\"]\n",
    "\n",
    "\n",
    "plt.figure(figsize = (11,7))\n",
    "plt.title('KNN Regressor')\n",
    "plt.xlabel('No of Neighbors')\n",
    "plt.ylabel('Score')\n",
    "plt.plot(n_neighbors, train_knnRegressor, label='Train score',\n",
    "             color='blue')\n",
    "plt.plot(n_neighbors, test_knnRegressor,\n",
    "             label='Mean Test score', color='orange')\n",
    "\n",
    "plt.legend(loc='best')\n",
    "plt.show()"
   ]
  },
  {
   "cell_type": "code",
   "execution_count": 44,
   "metadata": {},
   "outputs": [
    {
     "name": "stdout",
     "output_type": "stream",
     "text": [
      "Best CV result: 0.6339122685851112\n",
      "Best parameters: {'n_neighbors': 1}\n",
      "Training Score: 1.0\n",
      "Testing Score: 0.1347607930843645\n"
     ]
    }
   ],
   "source": [
    "printGridResult(knnGridSCV)\n",
    "\n",
    "model_Scores.append({'Model Type' : 'Regression',\n",
    "                    'Model Name' : 'KNN Regressor',\n",
    "                    'Parameters' : knnGridSCV.best_params_,\n",
    "                    'Training_score': knnGridSCV.score(X_train, y_train),\n",
    "                    'Test Score': knnGridSCV.score(X_test, y_test )})\n"
   ]
  },
  {
   "cell_type": "markdown",
   "metadata": {},
   "source": [
    "### LinearSVR"
   ]
  },
  {
   "cell_type": "code",
   "execution_count": 45,
   "metadata": {},
   "outputs": [
    {
     "name": "stdout",
     "output_type": "stream",
     "text": [
      "Parameter grid:\n",
      "{'C': [0.001, 0.01, 0.1, 1, 10, 100, 1000]}\n"
     ]
    },
    {
     "data": {
      "text/plain": [
       "GridSearchCV(cv=5, error_score='raise-deprecating',\n",
       "       estimator=LinearSVR(C=1.0, dual=True, epsilon=0.0, fit_intercept=True,\n",
       "     intercept_scaling=1.0, loss='epsilon_insensitive', max_iter=1000,\n",
       "     random_state=0, tol=0.0001, verbose=0),\n",
       "       fit_params=None, iid='warn', n_jobs=None,\n",
       "       param_grid={'C': [0.001, 0.01, 0.1, 1, 10, 100, 1000]},\n",
       "       pre_dispatch='2*n_jobs', refit=True, return_train_score=True,\n",
       "       scoring=None, verbose=0)"
      ]
     },
     "execution_count": 45,
     "metadata": {},
     "output_type": "execute_result"
    }
   ],
   "source": [
    "linearSVM = LinearSVR(random_state=0)\n",
    "linearSVMparam = {'C':[0.001, 0.01, 0.1, 1, 10, 100, 1000]}\n",
    "print(\"Parameter grid:\\n{}\".format(linearSVMparam))\n",
    "linearSVMGridSV = GridSearchCV(linearSVM, param_grid = linearSVMparam, cv=5, return_train_score=True)\n",
    "linearSVMGridSV.fit(X_train, y_train)"
   ]
  },
  {
   "cell_type": "code",
   "execution_count": 46,
   "metadata": {},
   "outputs": [
    {
     "data": {
      "image/png": "[encoded data removed]",
      "text/plain": [
       "<Figure size 792x504 with 1 Axes>"
      ]
     },
     "metadata": {
      "needs_background": "light"
     },
     "output_type": "display_data"
    }
   ],
   "source": [
    "C = [0.001, 0.01, 0.1, 1, 10, 100, 1000]\n",
    "linearSVM_train_mean = linearSVMGridSV.cv_results_[\"mean_train_score\"]\n",
    "linearSVM_train_std = linearSVMGridSV.cv_results_[\"std_train_score\"]\n",
    "linearSVM_test_mean = linearSVMGridSV.cv_results_[\"mean_test_score\"]\n",
    "linearSVM_test_std = linearSVMGridSV.cv_results_[\"std_test_score\"]\n",
    "\n",
    "plt.figure(figsize = (11,7))\n",
    "plt.title('Linear SVM')\n",
    "plt.xlabel('C')\n",
    "plt.ylabel('Score')\n",
    "# plot train scores\n",
    "plt.semilogx(C, linearSVM_train_mean, label='Mean Train score',\n",
    "             color='navy')\n",
    "# create a shaded area between [mean - std, mean + std]\n",
    "plt.gca().fill_between(C,\n",
    "                       linearSVM_train_mean - linearSVM_train_std,\n",
    "                       linearSVM_train_mean + linearSVM_train_std,\n",
    "                       alpha = 0.1,\n",
    "                       color='navy')\n",
    "plt.semilogx(C, linearSVM_test_mean,\n",
    "             label='Mean Test score', color='darkorange')\n",
    "\n",
    "# create a shaded area between [mean - std, mean + std]\n",
    "plt.gca().fill_between(C,\n",
    "                       linearSVM_test_mean - linearSVM_test_std,\n",
    "                       linearSVM_test_mean + linearSVM_test_std,\n",
    "                       alpha = 0.1,\n",
    "                       color='darkorange')\n",
    "\n",
    "plt.legend(loc='best')\n",
    "plt.show()"
   ]
  },
  {
   "cell_type": "code",
   "execution_count": 47,
   "metadata": {},
   "outputs": [
    {
     "name": "stdout",
     "output_type": "stream",
     "text": [
      "Best CV result: 0.6905213607315606\n",
      "Best parameters: {'C': 100}\n",
      "Training Score: 0.8564434535830807\n",
      "Testing Score: 0.4380512698614668\n"
     ]
    }
   ],
   "source": [
    "printGridResult(linearSVMGridSV)\n",
    "\n",
    "model_Scores.append({'Model Type' : 'Regression',\n",
    "                    'Model Name' : 'Linear SVM',\n",
    "                    'Parameters' : linearSVMGridSV.best_params_,\n",
    "                    'Training_score': linearSVMGridSV.score(X_train, y_train),\n",
    "                    'Test Score': linearSVMGridSV.score(X_test, y_test )})"
   ]
  },
  {
   "cell_type": "markdown",
   "metadata": {},
   "source": [
    "### SVM with Radial Kernal"
   ]
  },
  {
   "cell_type": "code",
   "execution_count": 48,
   "metadata": {
    "scrolled": false
   },
   "outputs": [
    {
     "name": "stdout",
     "output_type": "stream",
     "text": [
      "Parameter grid:\n",
      "{'C': [0.001, 0.01, 0.1, 1, 10, 100], 'gamma': [0.001, 0.01, 0.1, 1, 10, 100]}\n"
     ]
    },
    {
     "data": {
      "image/png": "[encoded data removed]",
      "text/plain": [
       "<Figure size 792x504 with 1 Axes>"
      ]
     },
     "metadata": {
      "needs_background": "light"
     },
     "output_type": "display_data"
    }
   ],
   "source": [
    "svmRadial = SVR(kernel = 'rbf')\n",
    "param_Radial_SVM = {'C': [0.001, 0.01, 0.1, 1, 10, 100],'gamma': [0.001, 0.01, 0.1, 1, 10, 100]}\n",
    "print(\"Parameter grid:\\n{}\".format(param_Radial_SVM))\n",
    "svmRadialGridSV  = GridSearchCV(svmRadial, param_grid = param_Radial_SVM, cv=5, return_train_score=True)\n",
    "\n",
    "svmRadialGridSV.fit(X_train, y_train)\n",
    "\n",
    "svmRadialGridSV_results = pd.DataFrame(svmRadialGridSV.cv_results_)\n",
    "%matplotlib inline\n",
    "scores = np.array(svmRadialGridSV_results.mean_test_score).reshape(6, 6)\n",
    "# plot the mean cross-validation scores\n",
    "plt.figure(figsize = (11,7))\n",
    "mglearn.tools.heatmap(scores, xlabel='gamma', xticklabels=param_Radial_SVM['gamma'], ylabel='C', yticklabels=param_Radial_SVM['C'])\n",
    "plt.figure\n",
    "plt.show()"
   ]
  },
  {
   "cell_type": "code",
   "execution_count": 49,
   "metadata": {
    "scrolled": true
   },
   "outputs": [
    {
     "name": "stdout",
     "output_type": "stream",
     "text": [
      "Best CV result: 0.8134447405574433\n",
      "Best parameters: {'C': 100, 'gamma': 0.01}\n",
      "Training Score: 0.9879893271614457\n",
      "Testing Score: 0.1325976742600453\n"
     ]
    }
   ],
   "source": [
    "printGridResult(svmRadialGridSV)\n",
    "model_Scores.append({'Model Type' : 'Regression',\n",
    "                    'Model Name' : 'SVM Radial',\n",
    "                    'Parameters' : svmRadialGridSV.best_params_,\n",
    "                    'Training_score': svmRadialGridSV.score(X_train, y_train),\n",
    "                    'Test Score': svmRadialGridSV.score(X_test, y_test )})"
   ]
  },
  {
   "cell_type": "markdown",
   "metadata": {},
   "source": [
    "### Polynomial SVM kernal"
   ]
  },
  {
   "cell_type": "code",
   "execution_count": 50,
   "metadata": {},
   "outputs": [
    {
     "name": "stdout",
     "output_type": "stream",
     "text": [
      "Parameter grid:\n",
      "{'C': [0.001, 0.01, 0.1, 1, 10, 100]}\n"
     ]
    },
    {
     "data": {
      "text/plain": [
       "GridSearchCV(cv=5, error_score='raise-deprecating',\n",
       "       estimator=SVR(C=1.0, cache_size=200, coef0=0.0, degree=2, epsilon=0.1,\n",
       "  gamma='auto_deprecated', kernel='poly', max_iter=-1, shrinking=True,\n",
       "  tol=0.001, verbose=False),\n",
       "       fit_params=None, iid='warn', n_jobs=None,\n",
       "       param_grid={'C': [0.001, 0.01, 0.1, 1, 10, 100]},\n",
       "       pre_dispatch='2*n_jobs', refit=True, return_train_score=True,\n",
       "       scoring=None, verbose=0)"
      ]
     },
     "execution_count": 50,
     "metadata": {},
     "output_type": "execute_result"
    }
   ],
   "source": [
    "polySVM = SVR(kernel = 'poly', degree = 2)\n",
    "paramPolySVM = {'C': [0.001, 0.01, 0.1, 1, 10, 100]}\n",
    "print(\"Parameter grid:\\n{}\".format(paramPolySVM))\n",
    "polySVMGridSV = GridSearchCV(polySVM, param_grid = paramPolySVM, cv=5, return_train_score= True)\n",
    "\n",
    "polySVMGridSV.fit(X_train, y_train)"
   ]
  },
  {
   "cell_type": "code",
   "execution_count": 51,
   "metadata": {},
   "outputs": [
    {
     "data": {
      "image/png": "[encoded data removed]",
      "text/plain": [
       "<Figure size 792x504 with 1 Axes>"
      ]
     },
     "metadata": {
      "needs_background": "light"
     },
     "output_type": "display_data"
    }
   ],
   "source": [
    "C = [0.001, 0.01, 0.1, 1, 10, 100]\n",
    "\n",
    "polySVMGridSV_train = polySVMGridSV.cv_results_[\"mean_train_score\"]\n",
    "polySVMGridSV_test = polySVMGridSV.cv_results_[\"mean_test_score\"]\n",
    "\n",
    "plt.figure(figsize = (11,7))\n",
    "plt.title('Polynomial SVM ')\n",
    "plt.xlabel('C')\n",
    "plt.ylabel('Score')\n",
    "plt.semilogx(C, polySVMGridSV_train, label='Train score',\n",
    "             color='navy')\n",
    "plt.semilogx(C, polySVMGridSV_test,\n",
    "             label='Test score', color='darkorange')\n",
    "\n",
    "plt.legend(loc='best')\n",
    "plt.show()"
   ]
  },
  {
   "cell_type": "code",
   "execution_count": 52,
   "metadata": {},
   "outputs": [
    {
     "name": "stdout",
     "output_type": "stream",
     "text": [
      "Best CV result: 0.8610919430058687\n",
      "Best parameters: {'C': 10}\n",
      "Training Score: 0.9970479759985823\n",
      "Testing Score: 0.4212567115100121\n"
     ]
    }
   ],
   "source": [
    "printGridResult(polySVMGridSV)\n",
    "model_Scores.append({'Model Type' : 'Regression',\n",
    "                    'Model Name' : 'Polynomial SVM',\n",
    "                    'Parameters' : polySVMGridSV.best_params_,\n",
    "                    'Training_score': polySVMGridSV.score(X_train, y_train),\n",
    "                    'Test Score': polySVMGridSV.score(X_test, y_test )})"
   ]
  },
  {
   "cell_type": "code",
   "execution_count": 53,
   "metadata": {
    "scrolled": true
   },
   "outputs": [
    {
     "data": {
      "text/html": [
       "<div>\n",
       "<style scoped>\n",
       "    .dataframe tbody tr th:only-of-type {\n",
       "        vertical-align: middle;\n",
       "    }\n",
       "\n",
       "    .dataframe tbody tr th {\n",
       "        vertical-align: top;\n",
       "    }\n",
       "\n",
       "    .dataframe thead th {\n",
       "        text-align: right;\n",
       "    }\n",
       "</style>\n",
       "<table border=\"1\" class=\"dataframe\">\n",
       "  <thead>\n",
       "    <tr style=\"text-align: right;\">\n",
       "      <th></th>\n",
       "      <th>Model Type</th>\n",
       "      <th>Parameters</th>\n",
       "      <th>Test Score</th>\n",
       "      <th>Training_score</th>\n",
       "    </tr>\n",
       "    <tr>\n",
       "      <th>Model Name</th>\n",
       "      <th></th>\n",
       "      <th></th>\n",
       "      <th></th>\n",
       "      <th></th>\n",
       "    </tr>\n",
       "  </thead>\n",
       "  <tbody>\n",
       "    <tr>\n",
       "      <th>Linear Regression</th>\n",
       "      <td>Regression</td>\n",
       "      <td>-</td>\n",
       "      <td>4.865740e-01</td>\n",
       "      <td>7.754781e-01</td>\n",
       "    </tr>\n",
       "    <tr>\n",
       "      <th>SGD Regressor</th>\n",
       "      <td>Regression</td>\n",
       "      <td>{'learning_rate': 'optimal', 'max_iter': 1000,...</td>\n",
       "      <td>-2.274651e+18</td>\n",
       "      <td>-8.065766e+19</td>\n",
       "    </tr>\n",
       "    <tr>\n",
       "      <th>Polynomial Regression</th>\n",
       "      <td>Regression</td>\n",
       "      <td>{'Degree': 2}</td>\n",
       "      <td>9.985827e-01</td>\n",
       "      <td>9.582815e-01</td>\n",
       "    </tr>\n",
       "    <tr>\n",
       "      <th>Ridge Regression</th>\n",
       "      <td>Regression</td>\n",
       "      <td>{'alpha': 0.1}</td>\n",
       "      <td>4.599559e-01</td>\n",
       "      <td>9.316140e-01</td>\n",
       "    </tr>\n",
       "    <tr>\n",
       "      <th>Lasso Regression</th>\n",
       "      <td>Regression</td>\n",
       "      <td>{'alpha': 0.001}</td>\n",
       "      <td>4.536241e-01</td>\n",
       "      <td>9.250519e-01</td>\n",
       "    </tr>\n",
       "    <tr>\n",
       "      <th>KNN Regressor</th>\n",
       "      <td>Regression</td>\n",
       "      <td>{'n_neighbors': 1}</td>\n",
       "      <td>1.347608e-01</td>\n",
       "      <td>1.000000e+00</td>\n",
       "    </tr>\n",
       "    <tr>\n",
       "      <th>Linear SVM</th>\n",
       "      <td>Regression</td>\n",
       "      <td>{'C': 100}</td>\n",
       "      <td>4.380513e-01</td>\n",
       "      <td>8.564435e-01</td>\n",
       "    </tr>\n",
       "    <tr>\n",
       "      <th>SVM Radial</th>\n",
       "      <td>Regression</td>\n",
       "      <td>{'C': 100, 'gamma': 0.01}</td>\n",
       "      <td>1.325977e-01</td>\n",
       "      <td>9.879893e-01</td>\n",
       "    </tr>\n",
       "    <tr>\n",
       "      <th>Polynomial SVM</th>\n",
       "      <td>Regression</td>\n",
       "      <td>{'C': 10}</td>\n",
       "      <td>4.212567e-01</td>\n",
       "      <td>9.970480e-01</td>\n",
       "    </tr>\n",
       "  </tbody>\n",
       "</table>\n",
       "</div>"
      ],
      "text/plain": [
       "                       Model Type  \\\n",
       "Model Name                          \n",
       "Linear Regression      Regression   \n",
       "SGD Regressor          Regression   \n",
       "Polynomial Regression  Regression   \n",
       "Ridge Regression       Regression   \n",
       "Lasso Regression       Regression   \n",
       "KNN Regressor          Regression   \n",
       "Linear SVM             Regression   \n",
       "SVM Radial             Regression   \n",
       "Polynomial SVM         Regression   \n",
       "\n",
       "                                                              Parameters  \\\n",
       "Model Name                                                                 \n",
       "Linear Regression                                                      -   \n",
       "SGD Regressor          {'learning_rate': 'optimal', 'max_iter': 1000,...   \n",
       "Polynomial Regression                                      {'Degree': 2}   \n",
       "Ridge Regression                                          {'alpha': 0.1}   \n",
       "Lasso Regression                                        {'alpha': 0.001}   \n",
       "KNN Regressor                                         {'n_neighbors': 1}   \n",
       "Linear SVM                                                    {'C': 100}   \n",
       "SVM Radial                                     {'C': 100, 'gamma': 0.01}   \n",
       "Polynomial SVM                                                 {'C': 10}   \n",
       "\n",
       "                         Test Score  Training_score  \n",
       "Model Name                                           \n",
       "Linear Regression      4.865740e-01    7.754781e-01  \n",
       "SGD Regressor         -2.274651e+18   -8.065766e+19  \n",
       "Polynomial Regression  9.985827e-01    9.582815e-01  \n",
       "Ridge Regression       4.599559e-01    9.316140e-01  \n",
       "Lasso Regression       4.536241e-01    9.250519e-01  \n",
       "KNN Regressor          1.347608e-01    1.000000e+00  \n",
       "Linear SVM             4.380513e-01    8.564435e-01  \n",
       "SVM Radial             1.325977e-01    9.879893e-01  \n",
       "Polynomial SVM         4.212567e-01    9.970480e-01  "
      ]
     },
     "execution_count": 53,
     "metadata": {},
     "output_type": "execute_result"
    }
   ],
   "source": [
    "modelResult = pd.DataFrame(model_Scores)\n",
    "modelResult.set_index('Model Name', inplace = True)\n",
    "modelResult"
   ]
  },
  {
   "cell_type": "markdown",
   "metadata": {},
   "source": [
    "## Best model for Regression \n",
    "\n",
    "- As the ``polynomial regression`` with ``degree = 2`` gives us the best result for training and testing of the data"
   ]
  },
  {
   "cell_type": "code",
   "execution_count": 54,
   "metadata": {},
   "outputs": [
    {
     "name": "stdout",
     "output_type": "stream",
     "text": [
      "Train Score : 1.0\n",
      "Test Score : 0.9985827383348901\n"
     ]
    }
   ],
   "source": [
    "polyFinal = PolynomialFeatures(2)\n",
    "X_train_poly = polyFinal.fit_transform(X_train)\n",
    "X_test_poly = polyFinal.transform(X_test)\n",
    "polyRegFinal = LinearRegression()\n",
    "polyRegFinal.fit(X_train_poly,y_train)\n",
    "poly_train = polyRegFinal.score(X_train_poly,y_train)\n",
    "poly_Test = polyRegFinal.score(X_test_poly,y_test)\n",
    "print('Train Score :' , poly_train)\n",
    "print('Test Score :' , poly_Test)"
   ]
  },
  {
   "cell_type": "markdown",
   "metadata": {},
   "source": [
    "### ClassificationTasks"
   ]
  },
  {
   "cell_type": "markdown",
   "metadata": {},
   "source": [
    " #### Accuracy Method\n",
    "    \n",
    "As classification model is vulerable to missclassification. To reduce that  we want a good precision level that is (less false positive) and good recall (less false negative) So we need ``F1 score`` , ``AUC`` and ``Confusion matrix`` so that consolidately we can comment on the overall performance of the classification models. The ``higher`` the ``F1 Score`` better fit of the model "
   ]
  },
  {
   "cell_type": "code",
   "execution_count": 55,
   "metadata": {},
   "outputs": [],
   "source": [
    "from sklearn.model_selection import GridSearchCV\n",
    "from sklearn.neighbors import KNeighborsClassifier\n",
    "from sklearn.metrics import confusion_matrix, precision_recall_curve, classification_report,roc_auc_score\n",
    "from sklearn.linear_model import LogisticRegression\n"
   ]
  },
  {
   "cell_type": "code",
   "execution_count": 56,
   "metadata": {},
   "outputs": [],
   "source": [
    "cl_report = []"
   ]
  },
  {
   "cell_type": "code",
   "execution_count": 57,
   "metadata": {},
   "outputs": [],
   "source": [
    "y_cl = audit_risk['Risk']\n",
    "X_cl = audit_risk.drop('Risk',axis=1)\n",
    "X_train_org_cl, X_test_org_cl, y_ctrain, y_ctest = train_test_split(X_cl, y_cl, random_state = 0)\n",
    "scaler = StandardScaler()\n",
    "scaler.fit(X_train_org_cl)\n",
    "X_ctrain = scaler.transform(X_train_org_cl)\n",
    "X_ctest = scaler.transform(X_test_org_cl)"
   ]
  },
  {
   "cell_type": "code",
   "execution_count": 58,
   "metadata": {},
   "outputs": [
    {
     "data": {
      "text/plain": [
       "(582, 32)"
      ]
     },
     "execution_count": 58,
     "metadata": {},
     "output_type": "execute_result"
    }
   ],
   "source": [
    "X_ctrain.shape"
   ]
  },
  {
   "cell_type": "code",
   "execution_count": 59,
   "metadata": {},
   "outputs": [
    {
     "data": {
      "text/plain": [
       "(194, 32)"
      ]
     },
     "execution_count": 59,
     "metadata": {},
     "output_type": "execute_result"
    }
   ],
   "source": [
    "X_ctest.shape"
   ]
  },
  {
   "cell_type": "markdown",
   "metadata": {},
   "source": [
    "## KNN Classification"
   ]
  },
  {
   "cell_type": "code",
   "execution_count": 60,
   "metadata": {},
   "outputs": [
    {
     "name": "stdout",
     "output_type": "stream",
     "text": [
      "Parameter grid:\n",
      "{'n_neighbors': [1, 3, 5, 10, 15, 20]}\n",
      "Best parameters: {'n_neighbors': 15}\n",
      "Training Score: 0.9656357388316151\n",
      "Testing Score: 0.9742268041237113\n"
     ]
    },
    {
     "data": {
      "image/png": "[encoded data removed]",
      "text/plain": [
       "<Figure size 864x576 with 1 Axes>"
      ]
     },
     "metadata": {
      "needs_background": "light"
     },
     "output_type": "display_data"
    },
    {
     "data": {
      "image/png": "[encoded data removed]",
      "text/plain": [
       "<Figure size 576x360 with 2 Axes>"
      ]
     },
     "metadata": {
      "needs_background": "light"
     },
     "output_type": "display_data"
    },
    {
     "name": "stdout",
     "output_type": "stream",
     "text": [
      "classification report               precision    recall  f1-score   support\n",
      "\n",
      "           0       0.96      1.00      0.98       124\n",
      "           1       1.00      0.93      0.96        70\n",
      "\n",
      "   micro avg       0.97      0.97      0.97       194\n",
      "   macro avg       0.98      0.96      0.97       194\n",
      "weighted avg       0.98      0.97      0.97       194\n",
      "\n"
     ]
    }
   ],
   "source": [
    "knnClassifier = KNeighborsClassifier()\n",
    "neighbors  = {'n_neighbors':[1,3,5,10,15,20]} \n",
    "print(\"Parameter grid:\\n{}\".format(neighbors))\n",
    "\n",
    "knn_Grid = GridSearchCV(knnClassifier, param_grid=neighbors)\n",
    "knn_Grid.fit(X_ctrain,y_ctrain)\n",
    "print(\"Best parameters: {}\".format(knn_Grid.best_params_))\n",
    "print(\"Training Score: {}\".format(knn_Grid.score(X_ctrain, y_ctrain)))\n",
    "print(\"Testing Score: {}\".format(knn_Grid.score(X_ctest, y_ctest)))\n",
    "\n",
    "%matplotlib inline\n",
    "y_knn_predict = knn_Grid.predict(X_ctest)\n",
    "y_knn_train_predict = knn_Grid.predict(X_ctrain)\n",
    "precision, recall, thresholds = precision_recall_curve(y_ctest,knn_Grid.predict_proba(X_ctest)[:, 1])\n",
    "\n",
    "close_zero = np.argmin(np.abs(thresholds))\n",
    "fig = plt.subplots(figsize = (12,8))\n",
    "plt.plot(precision[close_zero], recall[close_zero], 'o', markersize=10,\n",
    "         label=\"threshold zero\", fillstyle=\"none\", c='k', mew=2)\n",
    "\n",
    "plt.plot(precision, recall, label=\"precision recall curve\")\n",
    "plt.xlabel(\"Precision\")\n",
    "plt.ylabel(\"Recall\")\n",
    "plt.legend(loc=\"best\")\n",
    "plt.show()\n",
    "#Confusion Matrix \n",
    "kneighbors_cf = confusion_matrix(y_ctest, knn_Grid.predict(X_ctest))\n",
    "fig = plt.subplots(figsize=(8,5))\n",
    "sns.heatmap(kneighbors_cf,  annot=True, cmap=plt.cm.copper)\n",
    "plt.title(\"KNearsNeighbors \\n Confusion Matrix\", fontsize=14)\n",
    "plt.show()\n",
    "\n",
    "print (\"classification report\", classification_report(y_ctest, knn_Grid.predict(X_ctest)))"
   ]
  },
  {
   "cell_type": "code",
   "execution_count": 61,
   "metadata": {},
   "outputs": [],
   "source": [
    "cl_report = [['KNN Clasifier ', 'k = 15', knn_Grid.score(X_ctrain, y_ctrain), knn_Grid.score(X_ctest, y_ctest), roc_auc_score(y_knn_train_predict, y_ctrain), roc_auc_score(y_knn_predict, y_ctest)]]"
   ]
  },
  {
   "cell_type": "markdown",
   "metadata": {},
   "source": [
    "## Logistic Regression"
   ]
  },
  {
   "cell_type": "code",
   "execution_count": 62,
   "metadata": {},
   "outputs": [
    {
     "name": "stdout",
     "output_type": "stream",
     "text": [
      "Parameter grid:\n",
      "{'C': [0.001, 0.01, 0.1, 1, 10, 100, 1000], 'penalty': ['l1', 'l2']}\n",
      "Best parameters: {'C': 100, 'penalty': 'l2'}\n",
      "Training Score: 0.9936034115138592\n",
      "Testing Score: 0.9928057553956835\n"
     ]
    },
    {
     "data": {
      "image/png": "[encoded data removed]",
      "text/plain": [
       "<Figure size 864x576 with 1 Axes>"
      ]
     },
     "metadata": {
      "needs_background": "light"
     },
     "output_type": "display_data"
    },
    {
     "data": {
      "image/png": "[encoded data removed]",
      "text/plain": [
       "<Figure size 576x360 with 2 Axes>"
      ]
     },
     "metadata": {
      "needs_background": "light"
     },
     "output_type": "display_data"
    },
    {
     "name": "stdout",
     "output_type": "stream",
     "text": [
      "classification report               precision    recall  f1-score   support\n",
      "\n",
      "           0       0.99      1.00      1.00       124\n",
      "           1       1.00      0.99      0.99        70\n",
      "\n",
      "   micro avg       0.99      0.99      0.99       194\n",
      "   macro avg       1.00      0.99      0.99       194\n",
      "weighted avg       0.99      0.99      0.99       194\n",
      "\n"
     ]
    }
   ],
   "source": [
    "logReg = LogisticRegression(random_state=0)\n",
    "logisticParam  = {'C': [0.001, 0.01, 0.1, 1, 10, 100, 1000],'penalty' :['l1','l2']}\n",
    "print(\"Parameter grid:\\n{}\".format(logisticParam))\n",
    "logGrid = GridSearchCV(estimator = logReg, param_grid = logisticParam, cv=5, scoring= 'f1', return_train_score=True)\n",
    "\n",
    "logGrid.fit(X_ctrain, y_ctrain)\n",
    "\n",
    "print(\"Best parameters: {}\".format(logGrid.best_params_))\n",
    "print(\"Training Score: {}\".format(logGrid.score(X_ctrain, y_ctrain)))\n",
    "print(\"Testing Score: {}\".format(logGrid.score(X_ctest, y_ctest)))\n",
    "\n",
    "%matplotlib inline\n",
    "y_log_predict = logGrid.predict(X_ctest)\n",
    "y_log_train_predict = logGrid.predict(X_ctrain)\n",
    "precision_log, recall_log, thresholds_log = precision_recall_curve(y_ctest,logGrid.decision_function(X_ctest))\n",
    "\n",
    "close_zero = np.argmin(np.abs(thresholds_log))\n",
    "fig = plt.subplots(figsize = (12,8))\n",
    "plt.plot(precision_log[close_zero], recall_log[close_zero], 'o', markersize=10,\n",
    "         label=\"threshold zero\", fillstyle=\"none\", c='k', mew=2)\n",
    "\n",
    "plt.plot(precision_log, recall_log, label=\"precision recall curve\")\n",
    "plt.xlabel(\"Precision\")\n",
    "plt.ylabel(\"Recall\")\n",
    "plt.legend(loc=\"best\")\n",
    "plt.show()\n",
    "#Confusion Matrix \n",
    "logistic_cf = confusion_matrix(y_ctest, logGrid.predict(X_ctest))\n",
    "fig = plt.subplots(figsize=(8,5))\n",
    "sns.heatmap(logistic_cf,  annot=True, cmap=plt.cm.copper)\n",
    "plt.title(\"KNearsNeighbors \\n Confusion Matrix\", fontsize=14)\n",
    "plt.show()\n",
    "\n",
    "print (\"classification report\", classification_report(y_ctest, logGrid.predict(X_ctest)))\n"
   ]
  },
  {
   "cell_type": "code",
   "execution_count": 63,
   "metadata": {},
   "outputs": [],
   "source": [
    "cl_report = cl_report + [['Logistic Regression', logGrid.best_params_, logGrid.score(X_ctrain, y_ctrain), logGrid.score(X_ctest, y_ctest), roc_auc_score(y_log_train_predict, y_ctrain), roc_auc_score(y_log_predict, y_ctest)]]"
   ]
  },
  {
   "cell_type": "markdown",
   "metadata": {},
   "source": [
    "## Linear SVM"
   ]
  },
  {
   "cell_type": "code",
   "execution_count": 64,
   "metadata": {},
   "outputs": [
    {
     "name": "stdout",
     "output_type": "stream",
     "text": [
      "Parameter grid:\n",
      "{'C': [0.001, 0.01, 0.1, 1, 10, 100, 1000]}\n",
      "Best parameters: {'C': 100}\n",
      "Training Score: 1.0\n",
      "Testing Score: 0.9928057553956835\n"
     ]
    },
    {
     "data": {
      "image/png": "[encoded data removed]",
      "text/plain": [
       "<Figure size 864x576 with 1 Axes>"
      ]
     },
     "metadata": {
      "needs_background": "light"
     },
     "output_type": "display_data"
    },
    {
     "data": {
      "image/png": "[encoded data removed]",
      "text/plain": [
       "<Figure size 576x360 with 2 Axes>"
      ]
     },
     "metadata": {
      "needs_background": "light"
     },
     "output_type": "display_data"
    },
    {
     "name": "stdout",
     "output_type": "stream",
     "text": [
      "classification report               precision    recall  f1-score   support\n",
      "\n",
      "           0       0.99      1.00      1.00       124\n",
      "           1       1.00      0.99      0.99        70\n",
      "\n",
      "   micro avg       0.99      0.99      0.99       194\n",
      "   macro avg       1.00      0.99      0.99       194\n",
      "weighted avg       0.99      0.99      0.99       194\n",
      "\n"
     ]
    }
   ],
   "source": [
    "from sklearn.svm import LinearSVC\n",
    "linearSVC = LinearSVC(random_state=0)\n",
    "linearsvc = {'C':[0.001, 0.01, 0.1, 1, 10, 100, 1000]}\n",
    "print(\"Parameter grid:\\n{}\".format(linearsvc))\n",
    "linearSVCGrid = GridSearchCV(linearSVC, param_grid = linearsvc, cv=5, scoring='f1', return_train_score=True)\n",
    "\n",
    "linearSVCGrid.fit(X_ctrain,y_ctrain)\n",
    "\n",
    "\n",
    "\n",
    "print(\"Best parameters: {}\".format(linearSVCGrid.best_params_))\n",
    "print(\"Training Score: {}\".format(linearSVCGrid.score(X_ctrain, y_ctrain)))\n",
    "print(\"Testing Score: {}\".format(linearSVCGrid.score(X_ctest, y_ctest)))\n",
    "\n",
    "%matplotlib inline\n",
    "y_lsvc_predict = linearSVCGrid.predict(X_ctest)\n",
    "y_lsvc_train_predict = linearSVCGrid.predict(X_ctrain)\n",
    "precision_lsvc, recall_lsvc, thresholds_lsvc = precision_recall_curve(y_ctest,linearSVCGrid.decision_function(X_ctest))\n",
    "\n",
    "close_zero = np.argmin(np.abs(thresholds_lsvc))\n",
    "fig = plt.subplots(figsize = (12,8))\n",
    "plt.plot(precision_lsvc[close_zero], recall_lsvc[close_zero], 'o', markersize=10,\n",
    "         label=\"threshold zero\", fillstyle=\"none\", c='k', mew=2)\n",
    "\n",
    "plt.plot(precision_lsvc, recall_lsvc, label=\"precision recall curve\")\n",
    "plt.xlabel(\"Precision\")\n",
    "plt.ylabel(\"Recall\")\n",
    "plt.legend(loc=\"best\")\n",
    "plt.show()\n",
    "#Confusion Matrix \n",
    "lsvc_cf = confusion_matrix(y_ctest, linearSVCGrid.predict(X_ctest))\n",
    "fig = plt.subplots(figsize=(8,5))\n",
    "sns.heatmap(lsvc_cf,  annot=True, cmap=plt.cm.copper)\n",
    "plt.title(\"Linear SVC \\n Confusion Matrix\", fontsize=14)\n",
    "plt.show()\n",
    "\n",
    "print (\"classification report\", classification_report(y_ctest, linearSVCGrid.predict(X_ctest)))\n"
   ]
  },
  {
   "cell_type": "code",
   "execution_count": 65,
   "metadata": {},
   "outputs": [],
   "source": [
    "cl_report = cl_report + [['Linear SVM', linearSVCGrid.best_params_, linearSVCGrid.score(X_ctrain, y_ctrain), linearSVCGrid.score(X_ctest, y_ctest), roc_auc_score(y_log_train_predict, y_ctrain), roc_auc_score(y_log_predict, y_ctest)]]"
   ]
  },
  {
   "cell_type": "markdown",
   "metadata": {},
   "source": [
    "## SVM Radial Kernel"
   ]
  },
  {
   "cell_type": "code",
   "execution_count": 66,
   "metadata": {},
   "outputs": [
    {
     "name": "stdout",
     "output_type": "stream",
     "text": [
      "Parameter grid:\n",
      "{'C': [0.001, 0.01, 0.1, 1, 10, 100], 'gamma': [0.001, 0.01, 0.1, 1, 10, 100]}\n",
      "Best parameters: {'C': 100, 'gamma': 0.1}\n",
      "Training Score: 1.0\n",
      "Testing Score: 0.9857142857142858\n",
      "Train roc_auc_score: 1.00\n",
      "Test roc_auc_score: 1.00 \n"
     ]
    },
    {
     "data": {
      "image/png": "[encoded data removed]",
      "text/plain": [
       "<Figure size 432x288 with 1 Axes>"
      ]
     },
     "metadata": {
      "needs_background": "light"
     },
     "output_type": "display_data"
    },
    {
     "data": {
      "image/png": "[encoded data removed]",
      "text/plain": [
       "<Figure size 576x360 with 2 Axes>"
      ]
     },
     "metadata": {
      "needs_background": "light"
     },
     "output_type": "display_data"
    },
    {
     "name": "stdout",
     "output_type": "stream",
     "text": [
      "classification report               precision    recall  f1-score   support\n",
      "\n",
      "           0       0.99      0.99      0.99       124\n",
      "           1       0.99      0.99      0.99        70\n",
      "\n",
      "   micro avg       0.99      0.99      0.99       194\n",
      "   macro avg       0.99      0.99      0.99       194\n",
      "weighted avg       0.99      0.99      0.99       194\n",
      "\n"
     ]
    }
   ],
   "source": [
    "from sklearn.svm import SVC\n",
    "radialSVC = SVC(kernel = 'rbf',random_state=0)\n",
    "radialSVCParam = {'C': [0.001, 0.01, 0.1, 1, 10, 100],'gamma': [0.001, 0.01, 0.1, 1, 10, 100]}\n",
    "print(\"Parameter grid:\\n{}\".format(radialSVCParam))\n",
    "radialSVCGrid = GridSearchCV(radialSVC, param_grid = radialSVCParam, cv=5,scoring='f1', return_train_score=True)\n",
    "radialSVCGrid.fit(X_ctrain, y_ctrain)\n",
    "\n",
    "print(\"Best parameters: {}\".format(radialSVCGrid.best_params_))\n",
    "print(\"Training Score: {}\".format(radialSVCGrid.score(X_ctrain, y_ctrain)))\n",
    "print(\"Testing Score: {}\".format(radialSVCGrid.score(X_ctest, y_ctest)))\n",
    "\n",
    "y_radsvc_predict = radialSVCGrid.predict(X_ctest)\n",
    "y_radsvc_train_predict = radialSVCGrid.predict(X_ctrain)\n",
    "print('Train roc_auc_score: %.2f'%roc_auc_score(y_radsvc_train_predict, y_train))\n",
    "print('Test roc_auc_score: %.2f '%roc_auc_score(y_radsvc_predict, y_test))\n",
    "\n",
    "precision_rdS, recall_rdS, thresholds_rdS = precision_recall_curve(y_ctest, radialSVCGrid.decision_function(X_ctest))\n",
    "close_zero = np.argmin(np.abs(thresholds_rdS))\n",
    "plt.plot(precision_rdS[close_zero], recall_rdS[close_zero], 'o', markersize=10,\n",
    "         label=\"threshold zero\", fillstyle=\"none\", c='k', mew=2)\n",
    "plt.plot(precision_rdS, recall_rdS, label=\"precision recall curve\")\n",
    "plt.xlabel(\"Precision\")\n",
    "plt.ylabel(\"Recall\")\n",
    "plt.legend(loc=\"best\")\n",
    "plt.show()\n",
    "\n",
    "#Confusion Matrix \n",
    "radialSCV_cf = confusion_matrix(y_ctest, radialSVCGrid.predict(X_ctest))\n",
    "fig = plt.subplots(figsize=(8,5))\n",
    "sns.heatmap(radialSCV_cf,  annot=True, cmap=plt.cm.copper)\n",
    "plt.title(\"Radial SVC kernal \\n Confusion Matrix\", fontsize=14)\n",
    "plt.show()\n",
    "\n",
    "print (\"classification report\", classification_report(y_ctest, radialSVCGrid.predict(X_ctest)))\n"
   ]
  },
  {
   "cell_type": "code",
   "execution_count": 67,
   "metadata": {},
   "outputs": [],
   "source": [
    "cl_report = cl_report + [['Radial SVC ', radialSVCGrid.best_params_, radialSVCGrid.score(X_ctrain, y_ctrain), radialSVCGrid.score(X_ctest, y_ctest), roc_auc_score(y_radsvc_train_predict, y_ctrain), roc_auc_score(y_radsvc_predict, y_ctest)]]"
   ]
  },
  {
   "cell_type": "markdown",
   "metadata": {},
   "source": [
    "## Polynomial SVC "
   ]
  },
  {
   "cell_type": "code",
   "execution_count": 68,
   "metadata": {},
   "outputs": [
    {
     "name": "stdout",
     "output_type": "stream",
     "text": [
      "Parameter grid:\n",
      "{'C': [0.001, 0.01, 0.1, 1, 10, 100]}\n",
      "Best parameters: {'C': 10}\n",
      "Training Score: 0.9559471365638766\n",
      "Testing Score: 0.9402985074626866\n"
     ]
    },
    {
     "data": {
      "image/png": "[encoded data removed]",
      "text/plain": [
       "<Figure size 432x288 with 1 Axes>"
      ]
     },
     "metadata": {
      "needs_background": "light"
     },
     "output_type": "display_data"
    },
    {
     "data": {
      "image/png": "[encoded data removed]",
      "text/plain": [
       "<Figure size 576x360 with 2 Axes>"
      ]
     },
     "metadata": {
      "needs_background": "light"
     },
     "output_type": "display_data"
    },
    {
     "name": "stdout",
     "output_type": "stream",
     "text": [
      "classification report               precision    recall  f1-score   support\n",
      "\n",
      "           0       0.95      0.99      0.97       124\n",
      "           1       0.98      0.90      0.94        70\n",
      "\n",
      "   micro avg       0.96      0.96      0.96       194\n",
      "   macro avg       0.97      0.95      0.95       194\n",
      "weighted avg       0.96      0.96      0.96       194\n",
      "\n"
     ]
    }
   ],
   "source": [
    "from sklearn.model_selection import GridSearchCV\n",
    "from sklearn.svm import SVC\n",
    "polySVC = SVC(kernel = 'poly', degree = 2,random_state=0)\n",
    "polySVCparam = {'C': [0.001, 0.01, 0.1, 1, 10, 100]}\n",
    "print(\"Parameter grid:\\n{}\".format(polySVCparam))\n",
    "polySVCGrid = GridSearchCV(polySVC, param_grid = polySVCparam, scoring='f1', cv=5, return_train_score=True)\n",
    "\n",
    "polySVCGrid.fit(X_ctrain, y_ctrain)\n",
    "\n",
    "print(\"Best parameters: {}\".format(polySVCGrid.best_params_))\n",
    "print(\"Training Score: {}\".format(polySVCGrid.score(X_ctrain, y_ctrain)))\n",
    "print(\"Testing Score: {}\".format(polySVCGrid.score(X_ctest, y_ctest)))\n",
    "\n",
    "y_polySVC_predict = polySVCGrid.predict(X_ctest)\n",
    "y_polySVC_train_predict = polySVCGrid.predict(X_ctrain)\n",
    "\n",
    "\n",
    "precision_poly, recall_poly, thresholds_poly = precision_recall_curve(y_ctest, polySVCGrid.decision_function(X_ctest))\n",
    "close_zero = np.argmin(np.abs(thresholds_poly))\n",
    "plt.plot(precision_poly[close_zero], recall_poly[close_zero], 'o', markersize=10,\n",
    "         label=\"threshold zero\", fillstyle=\"none\", c='k', mew=2)\n",
    "plt.plot(precision_poly, recall_poly, label=\"precision recall curve\")\n",
    "plt.xlabel(\"Precision\")\n",
    "plt.ylabel(\"Recall\")\n",
    "plt.legend(loc=\"best\")\n",
    "plt.show()\n",
    "\n",
    "polySVC_cf = confusion_matrix(y_ctest, polySVCGrid.predict(X_ctest))\n",
    "fig = plt.subplots(figsize=(8,5))\n",
    "sns.heatmap(polySVC_cf,  annot=True, cmap=plt.cm.copper)\n",
    "plt.title(\"Polynomial SVC kernal \\n Confusion Matrix\", fontsize=14)\n",
    "plt.show()\n",
    "\n",
    "print (\"classification report\", classification_report(y_ctest, polySVCGrid.predict(X_ctest)))\n",
    "\n"
   ]
  },
  {
   "cell_type": "code",
   "execution_count": 69,
   "metadata": {},
   "outputs": [],
   "source": [
    "cl_report = cl_report + [['Polynomial SVC ', polySVCGrid.best_params_, polySVCGrid.score(X_ctrain, y_ctrain), polySVCGrid.score(X_ctest, y_ctest), roc_auc_score(y_polySVC_train_predict, y_ctrain), roc_auc_score(y_polySVC_predict, y_ctest)]]"
   ]
  },
  {
   "cell_type": "markdown",
   "metadata": {},
   "source": [
    "## Decision Tree "
   ]
  },
  {
   "cell_type": "code",
   "execution_count": 70,
   "metadata": {},
   "outputs": [
    {
     "name": "stdout",
     "output_type": "stream",
     "text": [
      "Parameter grid:\n",
      "{'max_depth': [1, 2, 3, 4, 5, 6, 7, 8, 9, 10], 'criterion': ['gini', 'entropy']}\n",
      "Best parameters: {'criterion': 'gini', 'max_depth': 1}\n",
      "Training Score: 1.0\n",
      "Testing Score: 1.0\n"
     ]
    },
    {
     "data": {
      "image/png": "[encoded data removed]",
      "text/plain": [
       "<Figure size 432x288 with 1 Axes>"
      ]
     },
     "metadata": {
      "needs_background": "light"
     },
     "output_type": "display_data"
    }
   ],
   "source": [
    "from sklearn.tree import DecisionTreeClassifier\n",
    "decisionTree  = DecisionTreeClassifier(random_state=0)\n",
    "dtreeparam = {'max_depth': [1,2,3,4,5,6,7,8, 9, 10], 'criterion': ['gini','entropy']}\n",
    "print(\"Parameter grid:\\n{}\".format(dtreeparam))\n",
    "decisionTreeGrid = GridSearchCV(decisionTree, param_grid = dtreeparam, cv=5,scoring='f1',return_train_score=True)\n",
    "\n",
    "decisionTreeGrid.fit(X_ctrain, y_ctrain)\n",
    "\n",
    "print(\"Best parameters: {}\".format(decisionTreeGrid.best_params_))\n",
    "print(\"Training Score: {}\".format(decisionTreeGrid.score(X_ctrain, y_ctrain)))\n",
    "print(\"Testing Score: {}\".format(decisionTreeGrid.score(X_ctest, y_ctest)))\n",
    "\n",
    "\n",
    "y_dtree_predict = decisionTreeGrid.predict(X_ctest)\n",
    "y_dtree_train_predict = decisionTreeGrid.predict(X_ctrain)\n",
    "\n",
    "precision_tree, recall_tree, thresholds_tree = precision_recall_curve(y_ctest, decisionTreeGrid.predict_proba(X_ctest)[:,1])\n",
    "close_zero = np.argmin(np.abs(thresholds_tree))\n",
    "plt.plot(precision_tree[close_zero], recall_tree[close_zero], 'o', markersize=10,\n",
    "         label=\"threshold zero\", fillstyle=\"none\", c='k', mew=2)\n",
    "plt.plot(precision_tree, recall_tree, label=\"precision recall curve\")\n",
    "plt.xlabel(\"Precision\")\n",
    "plt.ylabel(\"Recall\")\n",
    "plt.legend(loc=\"best\")\n",
    "plt.show()\n",
    "\n"
   ]
  },
  {
   "cell_type": "code",
   "execution_count": 71,
   "metadata": {},
   "outputs": [
    {
     "data": {
      "image/png": "[encoded data removed]",
      "text/plain": [
       "<Figure size 576x360 with 2 Axes>"
      ]
     },
     "metadata": {
      "needs_background": "light"
     },
     "output_type": "display_data"
    },
    {
     "name": "stdout",
     "output_type": "stream",
     "text": [
      "classification report               precision    recall  f1-score   support\n",
      "\n",
      "           0       1.00      1.00      1.00       124\n",
      "           1       1.00      1.00      1.00        70\n",
      "\n",
      "   micro avg       1.00      1.00      1.00       194\n",
      "   macro avg       1.00      1.00      1.00       194\n",
      "weighted avg       1.00      1.00      1.00       194\n",
      "\n"
     ]
    }
   ],
   "source": [
    "dtree_cf = confusion_matrix(y_ctest, decisionTreeGrid.predict(X_ctest))\n",
    "fig = plt.subplots(figsize=(8,5))\n",
    "sns.heatmap(dtree_cf,  annot=True, cmap=plt.cm.copper)\n",
    "plt.title(\"Polynomial SVC kernal \\n Confusion Matrix\", fontsize=14)\n",
    "plt.show()\n",
    "print (\"classification report\", classification_report(y_ctest, decisionTreeGrid.predict(X_ctest)))\n"
   ]
  },
  {
   "cell_type": "code",
   "execution_count": 72,
   "metadata": {},
   "outputs": [],
   "source": [
    "cl_report = cl_report + [['Decision Tree', decisionTreeGrid.best_params_, decisionTreeGrid.score(X_ctrain, y_ctrain), decisionTreeGrid.score(X_ctest, y_ctest), roc_auc_score(y_dtree_train_predict, y_ctrain), roc_auc_score(y_dtree_predict, y_ctest)]]"
   ]
  },
  {
   "cell_type": "code",
   "execution_count": 73,
   "metadata": {},
   "outputs": [],
   "source": [
    "classificationReport = pd.DataFrame(cl_report, columns=['Model', 'Best Params', 'F1-Train', 'F1-Test', 'AUC-Train', 'AUC-Test'])"
   ]
  },
  {
   "cell_type": "code",
   "execution_count": 74,
   "metadata": {},
   "outputs": [
    {
     "data": {
      "text/html": [
       "<div>\n",
       "<style scoped>\n",
       "    .dataframe tbody tr th:only-of-type {\n",
       "        vertical-align: middle;\n",
       "    }\n",
       "\n",
       "    .dataframe tbody tr th {\n",
       "        vertical-align: top;\n",
       "    }\n",
       "\n",
       "    .dataframe thead th {\n",
       "        text-align: right;\n",
       "    }\n",
       "</style>\n",
       "<table border=\"1\" class=\"dataframe\">\n",
       "  <thead>\n",
       "    <tr style=\"text-align: right;\">\n",
       "      <th></th>\n",
       "      <th>Model</th>\n",
       "      <th>Best Params</th>\n",
       "      <th>F1-Train</th>\n",
       "      <th>F1-Test</th>\n",
       "      <th>AUC-Train</th>\n",
       "      <th>AUC-Test</th>\n",
       "    </tr>\n",
       "  </thead>\n",
       "  <tbody>\n",
       "    <tr>\n",
       "      <th>0</th>\n",
       "      <td>KNN Clasifier</td>\n",
       "      <td>k = 15</td>\n",
       "      <td>0.965636</td>\n",
       "      <td>0.974227</td>\n",
       "      <td>0.969667</td>\n",
       "      <td>0.980620</td>\n",
       "    </tr>\n",
       "    <tr>\n",
       "      <th>1</th>\n",
       "      <td>Logistic Regression</td>\n",
       "      <td>{'C': 100, 'penalty': 'l2'}</td>\n",
       "      <td>0.993603</td>\n",
       "      <td>0.992806</td>\n",
       "      <td>0.994990</td>\n",
       "      <td>0.996000</td>\n",
       "    </tr>\n",
       "    <tr>\n",
       "      <th>2</th>\n",
       "      <td>Linear SVM</td>\n",
       "      <td>{'C': 100}</td>\n",
       "      <td>1.000000</td>\n",
       "      <td>0.992806</td>\n",
       "      <td>0.994990</td>\n",
       "      <td>0.996000</td>\n",
       "    </tr>\n",
       "    <tr>\n",
       "      <th>3</th>\n",
       "      <td>Radial SVC</td>\n",
       "      <td>{'C': 100, 'gamma': 0.1}</td>\n",
       "      <td>1.000000</td>\n",
       "      <td>0.985714</td>\n",
       "      <td>1.000000</td>\n",
       "      <td>0.988825</td>\n",
       "    </tr>\n",
       "    <tr>\n",
       "      <th>4</th>\n",
       "      <td>Polynomial SVC</td>\n",
       "      <td>{'C': 10}</td>\n",
       "      <td>0.955947</td>\n",
       "      <td>0.940299</td>\n",
       "      <td>0.970640</td>\n",
       "      <td>0.965264</td>\n",
       "    </tr>\n",
       "    <tr>\n",
       "      <th>5</th>\n",
       "      <td>Decision Tree</td>\n",
       "      <td>{'criterion': 'gini', 'max_depth': 1}</td>\n",
       "      <td>1.000000</td>\n",
       "      <td>1.000000</td>\n",
       "      <td>1.000000</td>\n",
       "      <td>1.000000</td>\n",
       "    </tr>\n",
       "  </tbody>\n",
       "</table>\n",
       "</div>"
      ],
      "text/plain": [
       "                 Model                            Best Params  F1-Train  \\\n",
       "0       KNN Clasifier                                  k = 15  0.965636   \n",
       "1  Logistic Regression            {'C': 100, 'penalty': 'l2'}  0.993603   \n",
       "2           Linear SVM                             {'C': 100}  1.000000   \n",
       "3          Radial SVC                {'C': 100, 'gamma': 0.1}  1.000000   \n",
       "4      Polynomial SVC                               {'C': 10}  0.955947   \n",
       "5        Decision Tree  {'criterion': 'gini', 'max_depth': 1}  1.000000   \n",
       "\n",
       "    F1-Test  AUC-Train  AUC-Test  \n",
       "0  0.974227   0.969667  0.980620  \n",
       "1  0.992806   0.994990  0.996000  \n",
       "2  0.992806   0.994990  0.996000  \n",
       "3  0.985714   1.000000  0.988825  \n",
       "4  0.940299   0.970640  0.965264  \n",
       "5  1.000000   1.000000  1.000000  "
      ]
     },
     "execution_count": 74,
     "metadata": {},
     "output_type": "execute_result"
    }
   ],
   "source": [
    "classificationReport"
   ]
  },
  {
   "cell_type": "markdown",
   "metadata": {},
   "source": [
    "## Conclusion \n",
    "- Decision Tree is good for fit of data because both the training and testing scores are 1.0, which means they are 100% correctly classified."
   ]
  }
 ],
 "metadata": {
  "kernelspec": {
   "display_name": "Python 3",
   "language": "python",
   "name": "python3"
  },
  "language_info": {
   "codemirror_mode": {
    "name": "ipython",
    "version": 3
   },
   "file_extension": ".py",
   "mimetype": "text/x-python",
   "name": "python",
   "nbconvert_exporter": "python",
   "pygments_lexer": "ipython3",
   "version": "3.7.1"
  }
 },
 "nbformat": 4,
 "nbformat_minor": 2
}
